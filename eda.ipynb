{
 "cells": [
  {
   "cell_type": "markdown",
   "metadata": {},
   "source": [
    "# Análise exploratória de dados do Enem\n",
    "- Neste projeto, irei realizar uma análise exploratória dos microdados do Enem 2022. O objetivo consiste em desvendar padrões e insights sobre aspectos educacionais do Brasil e do exame, que tem papel imprescindível na sociedade. Para isso, técnicas de análise, exploração, limpeza e visualização de dados serão abordadas.\n",
    "\n",
    "Sobre o Enem:\n",
    "\n",
    "- O Exame Nacional do Ensino Médio (Enem) tem como objetivo primordial aferir se aqueles que dele participam demonstram, ao final do ensino médio, individualmente, domínio dos princípios científicos e tecnológicos que presidem a produção moderna e se detêm conhecimento das formas contemporâneas de linguagem.  \n",
    "- A estrutura conta com 4 (quatro) provas objetivas, uma de cada área do conhecimento, contendo 45 (quarenta  e  cinco) questões de múltipla escolha e uma redação.\n",
    "- Descrição das Áreas de Conhecimento e Componentes Curriculares do Enem: Linguagens, Códigos e suas tecnologias (Língua Portuguesa, Literatura, Língua Estrangeira, Artes, Educação Física e Tecnologias da Informação e Comunicação), Ciências Humanas e suas tecnologias (História, Geografia, Filosofia e Sociologia), Ciências da Natureza e suas tecnologias (Química, Física e Biologia), Matemática e suas tecnologias (Matemática).\n",
    "- Em 2022, as provas foram aplicadas nos dias 13 e 20 de novembro de 2021, sendo que no primeiro dia os participantes realizaram as provas de Linguagens, Códigos e suas tecnologias e Redação e de Ciências Humanas e suas tecnologias e, no segundo, as provas de Ciências da Natureza e suas tecnologias e Matemática e suas tecnologias. \n",
    "- Além dos cadernos regulares foram disponibilizados os cadernos ampliados, superampliados, ledor (correspondente ao caderno em braille) e a videoprova, conforme a condição de acessibilidade necessária ao participante. \n",
    "- Para cada prova aplicada, são produzidos quatro tipos de cadernos, contendo as mesmas questões, mas organizadas em ordem diferente. Essa diversidade dos cadernos de prova tem como objetivo dificultar as fraudes durante a aplicação do Exame.   \n",
    "- Na edição do Enem de 2022, os participantes realizaram o preenchimento facultativo do questionário intitulado “Hábitos de estudo dos participantes do Enem em contexto de pandemia”. Esse questionário buscou levantar informações não-cognitivas sobre a rotina de estudos e estratégias de preparação para o Enem adotadas pelos participantes durante o segundo ano de pandemia, quando estavam em vigor diferentes modalidades educacionais (presencial, híbrida, remota). Os resultados oferecem subsídios para as políticas públicas de acesso e permanência na Educação Superior, considerando o cenário de ruptura  dos  processos  educacionais  imposto  pela  pandemia  e  as  demandas  por  estratégias  de autorregulação por jovens e adultos para continuidade dos estudos e aprendizagem ao longo da vida. \n",
    "\n",
    "Sobre os microdados:\n",
    "\n",
    "- Os microdados se constituem no menor nível de desagregação de dados recolhidos por pesquisas, avaliações e exames realizados. No caso do Enem, os dados estão por participante. Nunca constaram nos dados divulgados quaisquer variáveis que permitissem a identificação direta do \n",
    "participante, tais como nome, logradouro do endereço, e-mail, número do CPF, data de nascimento, \n",
    "dentre outras. Inclusive, o próprio número de inscrição real do participante é substituído por uma máscara gerada sequencialmente. Tratam-se, portanto, de dados anonimizados."
   ]
  },
  {
   "cell_type": "markdown",
   "metadata": {},
   "source": [
    "#### 1. Importando as bibliotecas"
   ]
  },
  {
   "cell_type": "code",
   "execution_count": 3,
   "metadata": {},
   "outputs": [],
   "source": [
    "import pandas as pd\n",
    "import numpy as np\n",
    "import matplotlib.pyplot as plt\n",
    "import seaborn as sns"
   ]
  },
  {
   "cell_type": "markdown",
   "metadata": {},
   "source": [
    "#### 2. Coletando os dados\n",
    "Há três tabelas disponíveis para análise:\n",
    "1. MICRODADOS_ENEM_2022.csv : Informações gerais sobre a realização das provas, a caracterização do participante e da escola que ele declarou ter frequentado, e as notas das provas objetivas e da redação.\n",
    "2. ITENS_PROVA_2022.csv : Informações gerais sobre os itens das provas.\n",
    "3. QUEST_HAB_ESTUDO.csv : Informações sobre as respostas dos participantes ao questionário de hábitos de estudo durante o segundo ano da pandemia."
   ]
  }
 ],
 "metadata": {
  "kernelspec": {
   "display_name": "Python 3",
   "language": "python",
   "name": "python3"
  },
  "language_info": {
   "codemirror_mode": {
    "name": "ipython",
    "version": 3
   },
   "file_extension": ".py",
   "mimetype": "text/x-python",
   "name": "python",
   "nbconvert_exporter": "python",
   "pygments_lexer": "ipython3",
   "version": "3.11.5"
  }
 },
 "nbformat": 4,
 "nbformat_minor": 2
}
